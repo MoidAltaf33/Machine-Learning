{
 "cells": [
  {
   "cell_type": "code",
   "execution_count": 4,
   "metadata": {},
   "outputs": [],
   "source": [
    "import urllib.request\n",
    "from bs4 import BeautifulSoup\n",
    "\n",
    "myURL = \"https://en.wikipedia.org/wiki/Jujutsu_Kaisen\"\n",
    "req = urllib.request.Request(myURL, headers={'User-Agent': 'Mozilla/5.0'})\n",
    "page_html = urllib.request.urlopen(req).read()\n",
    "\n",
    "page_soup = BeautifulSoup(page_html, \"html.parser\")\n",
    "\n",
    "docfile = open(\"jitjitsu.txt\", \"w+\", encoding=\"utf-8\")\n",
    "for contain in page_soup.find_all(\"div\", {\"class\": \"mw-parser-output\"}):\n",
    "    docfile.write(str(contain.get_text()))\n",
    "\n",
    "docfile.close()\n"
   ]
  }
 ],
 "metadata": {
  "kernelspec": {
   "display_name": "Python 3",
   "language": "python",
   "name": "python3"
  },
  "language_info": {
   "codemirror_mode": {
    "name": "ipython",
    "version": 3
   },
   "file_extension": ".py",
   "mimetype": "text/x-python",
   "name": "python",
   "nbconvert_exporter": "python",
   "pygments_lexer": "ipython3",
   "version": "3.11.1"
  },
  "orig_nbformat": 4
 },
 "nbformat": 4,
 "nbformat_minor": 2
}
